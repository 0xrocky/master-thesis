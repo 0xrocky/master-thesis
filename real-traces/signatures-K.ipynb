{
  "nbformat": 4,
  "nbformat_minor": 0,
  "metadata": {
    "colab": {
      "provenance": [],
      "authorship_tag": "ABX9TyNu3ylXT5gpk+thRJjVl+A7",
      "include_colab_link": true
    },
    "kernelspec": {
      "name": "python3",
      "display_name": "Python 3"
    },
    "language_info": {
      "name": "python"
    }
  },
  "cells": [
    {
      "cell_type": "markdown",
      "metadata": {
        "id": "view-in-github",
        "colab_type": "text"
      },
      "source": [
        "<a href=\"https://colab.research.google.com/github/0xrocky/master-thesis/blob/main/Signatures_K.ipynb\" target=\"_parent\"><img src=\"https://colab.research.google.com/assets/colab-badge.svg\" alt=\"Open In Colab\"/></a>"
      ]
    },
    {
      "cell_type": "code",
      "source": [
        "# Generic imports\n",
        "from google.colab import drive\n",
        "from google.colab import output\n",
        "import matplotlib.pyplot as plt\n",
        "import numpy as np\n",
        "import time"
      ],
      "metadata": {
        "id": "2Iz9dkUBoHti"
      },
      "execution_count": null,
      "outputs": []
    },
    {
      "cell_type": "code",
      "source": [
        "# Load traces from the GDrive folder\n",
        "LOCAL_DRIVE = '/content/drive'\n",
        "drive.mount( LOCAL_DRIVE, force_remount=True )\n",
        "PATH = '/content/drive/MyDrive/ECCML/Signatures/'\n",
        "# SIG = 'B1-2021-11-24-12.55-signatures.npy'\n",
        "# SIG = 'B2-2021-11-24-13.03-signatures.npy'\n",
        "# SIG = 'B3-2021-11-24-13.08-signatures.npy'\n",
        "# SIG = 'B4-2021-11-24-13.13-signatures.npy'\n",
        "# SIG = 'B5-2021-11-22-16.44-signatures.npy'"
      ],
      "metadata": {
        "colab": {
          "base_uri": "https://localhost:8080/"
        },
        "id": "EQe0ynt9pgac",
        "outputId": "0fa5186a-88fc-4dae-a1e2-dcb8666e0822"
      },
      "execution_count": null,
      "outputs": [
        {
          "output_type": "stream",
          "name": "stdout",
          "text": [
            "Mounted at /content/drive\n"
          ]
        }
      ]
    },
    {
      "cell_type": "code",
      "execution_count": null,
      "metadata": {
        "id": "fkVdHyVRhtOd",
        "colab": {
          "base_uri": "https://localhost:8080/"
        },
        "outputId": "53f35bae-d1b7-426a-82ad-afe1b6c76b32"
      },
      "outputs": [
        {
          "output_type": "stream",
          "name": "stdout",
          "text": [
            "['0x2d', '0xb0', '0x3e', '0x19', '0x74', '0x52', '0xde', '0xfe', '0xb5', '0xf3', '0x7', '0xd0', '0xfc', '0x1b', '0x63', '0x76', '0x3c', '0x3c', '0xd7', '0x30', '0x88', '0xa5', '0x5d', '0x83', '0xca', '0xbb', '0x38', '0xf7', '0xc4', '0xe5', '0xe7', '0x23', '0x45', '0x92', '0x3a', '0x2', '0xbc', '0xd0', '0x11', '0xdc']\n"
          ]
        }
      ],
      "source": [
        "SIG = 'B1-2021-11-24-12.55-signatures.npy'\n",
        "signature = np.load( PATH+SIG )\n",
        "tmp = []\n",
        "tmp += [ hex(i) for i in signature[0] ]\n",
        "print( tmp )"
      ]
    },
    {
      "cell_type": "code",
      "source": [
        "SIG = 'B2-2021-11-24-13.03-signatures.npy'\n",
        "signature = np.load( PATH+SIG )\n",
        "tmp = []\n",
        "tmp += [ hex(i) for i in signature[0] ]\n",
        "print( tmp )"
      ],
      "metadata": {
        "colab": {
          "base_uri": "https://localhost:8080/"
        },
        "id": "zaRxvA3ErZio",
        "outputId": "4ba81ed7-1e6f-4e7e-c75b-99ef54141b73"
      },
      "execution_count": null,
      "outputs": [
        {
          "output_type": "stream",
          "name": "stdout",
          "text": [
            "['0xf2', '0x70', '0xd9', '0xc2', '0x58', '0xbd', '0x3c', '0x17', '0x40', '0x7c', '0xf3', '0x19', '0xc8', '0x16', '0x57', '0xd1', '0x3b', '0x99', '0xb2', '0x93', '0x13', '0x66', '0x1e', '0x12', '0x37', '0x45', '0x32', '0x65', '0x2a', '0x47', '0x55', '0x2', '0xd6', '0xa2', '0xe', '0x65', '0xd0', '0xeb', '0x66', '0xc']\n"
          ]
        }
      ]
    },
    {
      "cell_type": "code",
      "source": [
        "SIG = 'B3-2021-11-24-13.08-signatures.npy'\n",
        "signature = np.load( PATH+SIG )\n",
        "tmp = []\n",
        "tmp += [ hex(i) for i in signature[0] ]\n",
        "print( tmp )"
      ],
      "metadata": {
        "colab": {
          "base_uri": "https://localhost:8080/"
        },
        "id": "4vo0VBWRrZxx",
        "outputId": "3d8769d8-8efc-4e77-a812-b328843435f8"
      },
      "execution_count": null,
      "outputs": [
        {
          "output_type": "stream",
          "name": "stdout",
          "text": [
            "['0x4f', '0x64', '0xde', '0x9e', '0x7', '0xaa', '0x6c', '0x8e', '0x39', '0x3e', '0xc', '0xcc', '0xd2', '0xab', '0x9e', '0x86', '0xfc', '0x29', '0x85', '0xf7', '0x8d', '0xfc', '0xb1', '0x1', '0x26', '0x4a', '0xc4', '0x5e', '0x7e', '0x91', '0x93', '0x81', '0xdb', '0x87', '0x2f', '0x7d', '0xde', '0x76', '0xd2', '0x95']\n"
          ]
        }
      ]
    },
    {
      "cell_type": "code",
      "source": [
        "SIG = 'B4-2021-11-24-13.13-signatures.npy'\n",
        "signature = np.load( PATH+SIG )\n",
        "tmp = []\n",
        "tmp += [ hex(i) for i in signature[0] ]\n",
        "print( tmp )"
      ],
      "metadata": {
        "colab": {
          "base_uri": "https://localhost:8080/"
        },
        "id": "zZgIStxhrZ_F",
        "outputId": "92bc63a7-af98-44b6-adc8-f81400ed7481"
      },
      "execution_count": null,
      "outputs": [
        {
          "output_type": "stream",
          "name": "stdout",
          "text": [
            "['0x27', '0x21', '0x16', '0xf2', '0x3b', '0x7a', '0x60', '0xff', '0xe7', '0x76', '0x3', '0x3', '0xc', '0xf5', '0x53', '0xd4', '0x42', '0xba', '0x9e', '0xb6', '0xe4', '0x5', '0x91', '0xa4', '0x1b', '0xbb', '0x9d', '0xa', '0x84', '0xcd', '0xad', '0xf6', '0xa0', '0x7e', '0x4d', '0x25', '0x23', '0x12', '0xb4', '0xe8']\n"
          ]
        }
      ]
    },
    {
      "cell_type": "code",
      "source": [
        "SIG = 'B5-2021-11-22-16.44-signatures.npy'\n",
        "signature = np.load( PATH+SIG )\n",
        "tmp = []\n",
        "tmp += [ hex(i) for i in signature[0] ]\n",
        "print( tmp )"
      ],
      "metadata": {
        "colab": {
          "base_uri": "https://localhost:8080/"
        },
        "id": "tAB4yzYBrauu",
        "outputId": "a350f679-9aba-4792-a658-9dbbe1657e23"
      },
      "execution_count": null,
      "outputs": [
        {
          "output_type": "stream",
          "name": "stdout",
          "text": [
            "['0xe0', '0x44', '0xca', '0xf3', '0xcf', '0xe5', '0x3d', '0x27', '0x6', '0xd2', '0x60', '0xf7', '0x58', '0xde', '0xf0', '0x12', '0x73', '0x2', '0x49', '0x5b', '0xc2', '0x31', '0x96', '0x4', '0x1e', '0xfe', '0xb7', '0xa8', '0x20', '0x33', '0x72', '0x6a', '0xbf', '0xcf', '0x3a', '0xd6', '0xc7', '0x3e', '0x4e', '0xdd']\n"
          ]
        }
      ]
    }
  ]
}
