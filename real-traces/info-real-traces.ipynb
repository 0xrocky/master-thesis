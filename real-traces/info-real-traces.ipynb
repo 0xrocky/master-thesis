{
  "nbformat": 4,
  "nbformat_minor": 0,
  "metadata": {
    "colab": {
      "provenance": [],
      "include_colab_link": true
    },
    "kernelspec": {
      "display_name": "Python 3",
      "name": "python3"
    },
    "widgets": {
      "application/vnd.jupyter.widget-state+json": {
        "b31e3cd1b37242e689ae7a89d0a191ac": {
          "model_module": "jupyter-matplotlib",
          "model_name": "MPLCanvasModel",
          "model_module_version": "^0.11",
          "state": {
            "_cursor": "default",
            "_data_url": "data:image/png;base64,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",
            "_dom_classes": [],
            "_figure_label": "Figure 1",
            "_image_mode": "full",
            "_message": "",
            "_model_module": "jupyter-matplotlib",
            "_model_module_version": "^0.11",
            "_model_name": "MPLCanvasModel",
            "_rubberband_height": 0,
            "_rubberband_width": 0,
            "_rubberband_x": 0,
            "_rubberband_y": 0,
            "_size": [
              2000,
              600
            ],
            "_view_count": null,
            "_view_module": "jupyter-matplotlib",
            "_view_module_version": "^0.11",
            "_view_name": "MPLCanvasView",
            "capture_scroll": false,
            "footer_visible": true,
            "header_visible": true,
            "layout": "IPY_MODEL_a3536d4a85184225b871edb277cc4126",
            "pan_zoom_throttle": 33,
            "resizable": true,
            "toolbar": "IPY_MODEL_b637ed698c81405b91cacd3aafe68b1f",
            "toolbar_position": "left",
            "toolbar_visible": "fade-in-fade-out"
          }
        },
        "a3536d4a85184225b871edb277cc4126": {
          "model_module": "@jupyter-widgets/base",
          "model_name": "LayoutModel",
          "model_module_version": "1.2.0",
          "state": {
            "_model_module": "@jupyter-widgets/base",
            "_model_module_version": "1.2.0",
            "_model_name": "LayoutModel",
            "_view_count": null,
            "_view_module": "@jupyter-widgets/base",
            "_view_module_version": "1.2.0",
            "_view_name": "LayoutView",
            "align_content": null,
            "align_items": null,
            "align_self": null,
            "border": null,
            "bottom": null,
            "display": null,
            "flex": null,
            "flex_flow": null,
            "grid_area": null,
            "grid_auto_columns": null,
            "grid_auto_flow": null,
            "grid_auto_rows": null,
            "grid_column": null,
            "grid_gap": null,
            "grid_row": null,
            "grid_template_areas": null,
            "grid_template_columns": null,
            "grid_template_rows": null,
            "height": null,
            "justify_content": null,
            "justify_items": null,
            "left": null,
            "margin": null,
            "max_height": null,
            "max_width": null,
            "min_height": null,
            "min_width": null,
            "object_fit": null,
            "object_position": null,
            "order": null,
            "overflow": null,
            "overflow_x": null,
            "overflow_y": null,
            "padding": null,
            "right": null,
            "top": null,
            "visibility": null,
            "width": null
          }
        },
        "b637ed698c81405b91cacd3aafe68b1f": {
          "model_module": "jupyter-matplotlib",
          "model_name": "ToolbarModel",
          "model_module_version": "^0.11",
          "state": {
            "_current_action": "",
            "_dom_classes": [],
            "_model_module": "jupyter-matplotlib",
            "_model_module_version": "^0.11",
            "_model_name": "ToolbarModel",
            "_view_count": null,
            "_view_module": "jupyter-matplotlib",
            "_view_module_version": "^0.11",
            "_view_name": "ToolbarView",
            "button_style": "",
            "collapsed": true,
            "layout": "IPY_MODEL_0033dca345514698a45160b548ece33d",
            "orientation": "vertical",
            "toolitems": [
              [
                "Home",
                "Reset original view",
                "home",
                "home"
              ],
              [
                "Back",
                "Back to previous view",
                "arrow-left",
                "back"
              ],
              [
                "Forward",
                "Forward to next view",
                "arrow-right",
                "forward"
              ],
              [
                "Pan",
                "Left button pans, Right button zooms\nx/y fixes axis, CTRL fixes aspect",
                "arrows",
                "pan"
              ],
              [
                "Zoom",
                "Zoom to rectangle\nx/y fixes axis",
                "square-o",
                "zoom"
              ],
              [
                "Download",
                "Download plot",
                "floppy-o",
                "save_figure"
              ]
            ]
          }
        },
        "0033dca345514698a45160b548ece33d": {
          "model_module": "@jupyter-widgets/base",
          "model_name": "LayoutModel",
          "model_module_version": "1.2.0",
          "state": {
            "_model_module": "@jupyter-widgets/base",
            "_model_module_version": "1.2.0",
            "_model_name": "LayoutModel",
            "_view_count": null,
            "_view_module": "@jupyter-widgets/base",
            "_view_module_version": "1.2.0",
            "_view_name": "LayoutView",
            "align_content": null,
            "align_items": null,
            "align_self": null,
            "border": null,
            "bottom": null,
            "display": null,
            "flex": null,
            "flex_flow": null,
            "grid_area": null,
            "grid_auto_columns": null,
            "grid_auto_flow": null,
            "grid_auto_rows": null,
            "grid_column": null,
            "grid_gap": null,
            "grid_row": null,
            "grid_template_areas": null,
            "grid_template_columns": null,
            "grid_template_rows": null,
            "height": null,
            "justify_content": null,
            "justify_items": null,
            "left": null,
            "margin": null,
            "max_height": null,
            "max_width": null,
            "min_height": null,
            "min_width": null,
            "object_fit": null,
            "object_position": null,
            "order": null,
            "overflow": null,
            "overflow_x": null,
            "overflow_y": null,
            "padding": null,
            "right": null,
            "top": null,
            "visibility": null,
            "width": null
          }
        }
      }
    }
  },
  "cells": [
    {
      "cell_type": "markdown",
      "metadata": {
        "id": "view-in-github",
        "colab_type": "text"
      },
      "source": [
        "<a href=\"https://colab.research.google.com/github/0xrocky/master-thesis/blob/main/info_real_traces.ipynb\" target=\"_parent\"><img src=\"https://colab.research.google.com/assets/colab-badge.svg\" alt=\"Open In Colab\"/></a>"
      ]
    },
    {
      "cell_type": "code",
      "metadata": {
        "id": "7rgSTKHUNjuX"
      },
      "source": [
        "# Generic imports\n",
        "!pip install ipympl\n",
        "from google.colab import drive\n",
        "from google.colab import output\n",
        "import matplotlib.pyplot as plt\n",
        "import numpy as np\n",
        "import time"
      ],
      "execution_count": null,
      "outputs": []
    },
    {
      "cell_type": "code",
      "metadata": {
        "colab": {
          "base_uri": "https://localhost:8080/"
        },
        "id": "s21FtkSP6_N8",
        "outputId": "eb6abab2-7be5-442e-df32-2550a0422cef"
      },
      "source": [
        "# Load traces from the GDrive folder\n",
        "LOCAL_DRIVE = '/content/drive'\n",
        "drive.mount( LOCAL_DRIVE, force_remount=True )\n",
        "\n",
        "# CYCLES_FILE = '/content/drive/MyDrive/ECCML/RealTraces/B0-2021-11-19-16.54-cycles.npy'\n",
        "# TRACES_FILE = '/content/drive/MyDrive/ECCML/RealTraces/B0-2021-11-19-16.54-traces.npy'\n",
        "# CYCLES_FILE = '/content/drive/MyDrive/ECCML/RealTraces/B1-2021-11-24-12.55-cycles.npy'\n",
        "# TRACES_FILE = '/content/drive/MyDrive/ECCML/RealTraces/B1-2021-11-24-12.55-traces.npy'\n",
        "# CYCLES_FILE = '/content/drive/MyDrive/ECCML/RealTraces/B2-2021-11-24-13.03-cycles.npy'\n",
        "# TRACES_FILE = '/content/drive/MyDrive/ECCML/RealTraces/B2-2021-11-24-13.03-traces.npy'\n",
        "# CYCLES_FILE = '/content/drive/MyDrive/ECCML/RealTraces/B3-2021-11-24-13.08-cycles.npy'\n",
        "# TRACES_FILE = '/content/drive/MyDrive/ECCML/RealTraces/B3-2021-11-24-13.08-traces.npy'\n",
        "CYCLES_FILE = '/content/drive/MyDrive/ECCML/RealTraces/B4-2021-11-24-13.13-cycles.npy'\n",
        "TRACES_FILE = '/content/drive/MyDrive/ECCML/RealTraces/B4-2021-11-24-13.13-traces.npy'\n",
        "#CYCLES_FILE = '/content/drive/MyDrive/ECCML/RealTraces/B5-2021-11-22-16.44-cycles.npy'\n",
        "#TRACES_FILE = '/content/drive/MyDrive/ECCML/RealTraces/B5-2021-11-22-16.44-traces.npy'\n",
        "\n",
        "traces = np.load( TRACES_FILE, allow_pickle=True )\n",
        "cycles = np.load( CYCLES_FILE, allow_pickle=True )"
      ],
      "execution_count": null,
      "outputs": [
        {
          "output_type": "stream",
          "name": "stdout",
          "text": [
            "Mounted at /content/drive\n"
          ]
        }
      ]
    },
    {
      "cell_type": "code",
      "metadata": {
        "id": "i38aQY88c0FO",
        "colab": {
          "base_uri": "https://localhost:8080/"
        },
        "outputId": "78d731bb-2994-4003-f199-a654f67b6eca"
      },
      "source": [
        "print( traces[ 0 ][ :5 ] )\n",
        "traces = np.multiply( traces, 175 )\n",
        "print( traces[ 0 ][ :5 ] )\n",
        "print( \"SAMPLES: min, max, mean:\", np.min( traces ), np.max( traces ), np.mean( traces ) )\n",
        "#traces = np.add( traces, 20 )"
      ],
      "execution_count": null,
      "outputs": [
        {
          "output_type": "stream",
          "name": "stdout",
          "text": [
            "[ 0.00488281 -0.02832031  0.02441406  0.00976562  0.00878906]\n",
            "[ 0.85449219 -4.95605469  4.27246094  1.70898438  1.53808594]\n",
            "SAMPLES: min, max, mean: -15.8935546875 17.9443359375 0.8111033129882812\n"
          ]
        }
      ]
    },
    {
      "cell_type": "code",
      "metadata": {
        "id": "4I28OAgy7HkW",
        "colab": {
          "base_uri": "https://localhost:8080/"
        },
        "outputId": "398d95ba-2506-41fe-c2d8-f43c936b1732"
      },
      "source": [
        "# Stampo le dimensionalità dei due array delle tracce e dei cicli di clock\n",
        "print( \"ndim traces: \", np.ndim( traces ) )\n",
        "print( \"shape traces: \", np.shape( traces ) )\n",
        "print( \"size traces: \", np.size( traces ) )\n",
        "print( \"len traces: \", len( traces ) )\n",
        "print( \"len traces[ 0 ]: \", len( traces[ 0 ] ) )\n",
        "print( \"min value:\", np.min( traces[ 0 ] ) )\n",
        "print( \"max value:\", np.max( traces[ 0 ] ) )\n",
        "print( traces[0][ :30 ] )\n",
        "\n",
        "print( \"ndim cycles: \", np.ndim( cycles ) )\n",
        "print( \"shape cycles: \", np.shape( cycles ) )\n",
        "print( \"size cycles: \", np.size( cycles ) )\n",
        "print( \"len cycles: \", len( cycles ) )\n",
        "print( \"len cycles[ 0 ]: \", len( cycles[ 0 ] ) )\n",
        "print( cycles[0][ -1 ] )\n",
        "print( cycles[0][ :150 ] )"
      ],
      "execution_count": null,
      "outputs": [
        {
          "output_type": "stream",
          "name": "stdout",
          "text": [
            "ndim traces:  2\n",
            "shape traces:  (1, 10000000)\n",
            "size traces:  10000000\n",
            "len traces:  1\n",
            "len traces[ 0 ]:  10000000\n",
            "min value: -15.8935546875\n",
            "max value: 17.9443359375\n",
            "[ 0.85449219 -4.95605469  4.27246094  1.70898438  1.53808594  1.87988281\n",
            "  0.17089844  0.         -5.12695312  3.75976562  2.05078125  0.51269531\n",
            "  1.87988281  0.17089844 -4.61425781  3.75976562  2.22167969  1.87988281\n",
            "  0.68359375  0.17089844 -1.3671875   4.61425781  2.05078125  0.\n",
            "  1.53808594  0.68359375 -0.68359375  0.68359375  1.02539062  3.58886719]\n",
            "ndim cycles:  3\n",
            "shape cycles:  (1, 6114, 2)\n",
            "size cycles:  12228\n",
            "len cycles:  1\n",
            "len cycles[ 0 ]:  6114\n",
            "[    132 7027212]\n",
            "[[     1     26]\n",
            " [     2     79]\n",
            " [     4    161]\n",
            " [     7    320]\n",
            " [     6   3118]\n",
            " [     6   5901]\n",
            " [     5   8588]\n",
            " [     4   8835]\n",
            " [     4   9078]\n",
            " [     6   9238]\n",
            " [     5  12026]\n",
            " [     7  12252]\n",
            " [     4  15040]\n",
            " [     4  15288]\n",
            " [     6  15536]\n",
            " [     4  18344]\n",
            " [     7  18593]\n",
            " [     4  21263]\n",
            " [     4  21417]\n",
            " [     6  21574]\n",
            " [     4  24233]\n",
            " [   132  24488]\n",
            " [     3  24666]\n",
            " [     4  24731]\n",
            " [     7  24979]\n",
            " [     6  27777]\n",
            " [     6  30561]\n",
            " [     4  33224]\n",
            " [     7  33472]\n",
            " [     4  36169]\n",
            " [     4  36415]\n",
            " [     4  36575]\n",
            " [     6  36827]\n",
            " [     4  39486]\n",
            " [     6  39733]\n",
            " [     4  42418]\n",
            " [   132  42663]\n",
            " [   131  42838]\n",
            " [     1  42875]\n",
            " [     2  42928]\n",
            " [     4  43010]\n",
            " [     7  43169]\n",
            " [     6  45967]\n",
            " [     6  48628]\n",
            " [     5  51314]\n",
            " [     4  51561]\n",
            " [     4  51805]\n",
            " [     6  52055]\n",
            " [     5  54842]\n",
            " [     7  55097]\n",
            " [     4  57789]\n",
            " [     4  57947]\n",
            " [     6  58104]\n",
            " [     4  60912]\n",
            " [     7  61072]\n",
            " [     4  63767]\n",
            " [     4  64010]\n",
            " [     6  64257]\n",
            " [     4  67063]\n",
            " [   132  67228]\n",
            " [     3  67405]\n",
            " [     4  67470]\n",
            " [     7  67629]\n",
            " [     6  70422]\n",
            " [     6  73108]\n",
            " [     4  75893]\n",
            " [     7  76142]\n",
            " [     4  78839]\n",
            " [     4  78994]\n",
            " [     4  79154]\n",
            " [     6  79407]\n",
            " [     4  82188]\n",
            " [     6  82434]\n",
            " [     4  85216]\n",
            " [   132  85372]\n",
            " [   131  85547]\n",
            " [     1  85584]\n",
            " [     2  85637]\n",
            " [     4  85719]\n",
            " [     7  85968]\n",
            " [     6  88674]\n",
            " [     6  91360]\n",
            " [     5  94022]\n",
            " [     4  94240]\n",
            " [     4  94393]\n",
            " [     6  94553]\n",
            " [     5  97341]\n",
            " [     7  97596]\n",
            " [     4 100384]\n",
            " [     4 100632]\n",
            " [     6 100790]\n",
            " [     4 103573]\n",
            " [     7 103732]\n",
            " [     4 106402]\n",
            " [     4 106556]\n",
            " [     6 106803]\n",
            " [     4 109487]\n",
            " [   132 109652]\n",
            " [     3 109830]\n",
            " [     4 109895]\n",
            " [     7 110143]\n",
            " [     6 112819]\n",
            " [     6 115603]\n",
            " [     4 118266]\n",
            " [     7 118514]\n",
            " [     4 121333]\n",
            " [     4 121579]\n",
            " [     4 121739]\n",
            " [     6 121991]\n",
            " [     4 124772]\n",
            " [     6 124929]\n",
            " [     4 127736]\n",
            " [   132 127981]\n",
            " [   131 128156]\n",
            " [     1 128193]\n",
            " [     2 128246]\n",
            " [     4 128328]\n",
            " [     7 128487]\n",
            " [     6 131188]\n",
            " [     6 133971]\n",
            " [     5 136779]\n",
            " [     4 137026]\n",
            " [     4 137270]\n",
            " [     6 137430]\n",
            " [     5 140095]\n",
            " [     7 140321]\n",
            " [     4 143135]\n",
            " [     4 143383]\n",
            " [     6 143630]\n",
            " [     4 146438]\n",
            " [     7 146688]\n",
            " [     4 149480]\n",
            " [     4 149723]\n",
            " [     6 149970]\n",
            " [     4 152751]\n",
            " [   132 153006]\n",
            " [     3 153183]\n",
            " [     4 153248]\n",
            " [     7 153497]\n",
            " [     6 156198]\n",
            " [     6 158981]\n",
            " [     4 161766]\n",
            " [     7 161925]\n",
            " [     4 164597]\n",
            " [     4 164752]\n",
            " [     4 164912]\n",
            " [     6 165165]\n",
            " [     4 167946]\n",
            " [     6 168102]\n",
            " [     4 170787]]\n"
          ]
        }
      ]
    },
    {
      "cell_type": "code",
      "metadata": {
        "id": "f0dH093_V5jl"
      },
      "source": [
        "# Per mia comodità costruisco delle funzioni per ottenere un sample, un tag, i cicli di clock\n",
        "def get_trace_sample( i ):\n",
        "  return traces[ 0 ][ i ]\n",
        "\n",
        "def get_cycles_tag( i ):\n",
        "  return cycles[ 0 ][ i ][ 0 ]\n",
        "\n",
        "def get_cycles_clock( i ):\n",
        "  return cycles[ 0 ][ i ][ 1 ]\n",
        "\n",
        "def len_trace_samples():\n",
        "  return len( traces[ 0 ] )\n",
        "\n",
        "def len_cycles():\n",
        "  return len( cycles[ 0 ] )"
      ],
      "execution_count": null,
      "outputs": []
    },
    {
      "cell_type": "code",
      "metadata": {
        "colab": {
          "base_uri": "https://localhost:8080/"
        },
        "id": "BqyW8xB-seXa",
        "outputId": "af05adfd-2083-44ab-a19c-99b66cf09838"
      },
      "source": [
        "# Conto quante occorrenze di operazioni ho in base ai tag\n",
        "uno = due = tre = quattro = cinque = sei = sette = centotrentuno = centotrentadue = 0\n",
        "for i in range( len_cycles() ):\n",
        "  temp = get_cycles_tag( i )\n",
        "  if temp == 1:\n",
        "    uno += 1\n",
        "  elif temp == 2:\n",
        "    due += 1\n",
        "  elif temp == 3:\n",
        "    tre += 1\n",
        "  elif temp == 4:\n",
        "    quattro += 1\n",
        "  elif temp == 5:\n",
        "    cinque += 1\n",
        "  elif temp == 6:\n",
        "    sei += 1\n",
        "  elif temp == 7:\n",
        "    sette += 1\n",
        "  elif temp == 131:\n",
        "    centotrentuno += 1\n",
        "  elif temp == 132:\n",
        "    centotrentadue += 1\n",
        "\n",
        "print( \"test_bit:\", uno )\n",
        "print( \"XYcZ_ADDC:\", due )\n",
        "print( \"XYcZ_ADD:\", tre )\n",
        "print( \"SUB:\", quattro )\n",
        "print( \"ADD:\", cinque )\n",
        "print( \"MUL:\", sei )\n",
        "print( \"SQR:\", sette )\n",
        "print( \"XYcZ_ADD end:\", centotrentuno )\n",
        "print( \"vli_set:\", centotrentadue )\n",
        "\n",
        "if uno + due + tre + quattro + cinque + sei + sette + centotrentuno + centotrentadue == len_cycles():\n",
        "  print( \"i conti tornano!\" )\n",
        "else:\n",
        "  print( \"qualcosa non quadra!\" )\n",
        "\n",
        "print( \"quanti cicli di clock sono stati registrati:\", get_cycles_clock( -1 ) )"
      ],
      "execution_count": null,
      "outputs": [
        {
          "output_type": "stream",
          "name": "stdout",
          "text": [
            "test_bit: 160\n",
            "XYcZ_ADDC: 160\n",
            "XYcZ_ADD: 160\n",
            "SUB: 2576\n",
            "ADD: 322\n",
            "MUL: 1449\n",
            "SQR: 805\n",
            "XYcZ_ADD end: 160\n",
            "vli_set: 322\n",
            "i conti tornano!\n",
            "quanti cicli di clock sono stati registrati: 7027212\n"
          ]
        }
      ]
    },
    {
      "cell_type": "code",
      "metadata": {
        "id": "9rtMq3M_TQhb"
      },
      "source": [
        "# Per mia comodità separo in due array distinti i cicli di clock e i tag delle singole operazioni\n",
        "operation_time = []\n",
        "\n",
        "for i in range( len_cycles() - 1 ):\n",
        "  duration = get_cycles_clock( i + 1 ) - get_cycles_clock( i )\n",
        "  operation_time += [ get_cycles_tag( i ) ] * duration"
      ],
      "execution_count": null,
      "outputs": []
    },
    {
      "cell_type": "code",
      "metadata": {
        "colab": {
          "base_uri": "https://localhost:8080/"
        },
        "id": "8LGsOx13u-pA",
        "outputId": "c43576fc-64ac-4056-8def-6ccd2adda04d"
      },
      "source": [
        "# Minimo, massimo e media\n",
        "mults = []\n",
        "adds = []\n",
        "subs = []\n",
        "sqrs = []\n",
        "testbits = []\n",
        "xyzadds = []\n",
        "xyzends = []\n",
        "xyzaddcs = []\n",
        "vlisets = []\n",
        "\n",
        "for i in range( len_cycles() - 1 ):\n",
        "  temp = get_cycles_tag( i )\n",
        "  curr_op_duration = get_cycles_clock( i + 1 ) - get_cycles_clock( i )\n",
        "  if get_cycles_clock( i ) + curr_op_duration > len( traces[ 0 ] ):  # il numero di samples è 10mln, ma il numero di cicli di clock registrati è maggiore\n",
        "    print( i, \"break\" )\n",
        "    break\n",
        "  if temp == 1:\n",
        "    testbits += [ curr_op_duration ]\n",
        "  elif temp == 2:\n",
        "    xyzaddcs += [ curr_op_duration ]\n",
        "  elif temp == 3:\n",
        "    xyzadds += [ curr_op_duration ]\n",
        "  elif temp == 4:\n",
        "    subs += [ curr_op_duration ]\n",
        "  elif temp == 5:\n",
        "    adds += [ curr_op_duration ]\n",
        "  elif temp == 6:\n",
        "    mults += [ curr_op_duration ]\n",
        "  elif temp == 7:\n",
        "    sqrs += [ curr_op_duration ]\n",
        "  elif temp == 131:\n",
        "    xyzends += [ curr_op_duration ]\n",
        "  else:\n",
        "    vlisets += [ curr_op_duration ]\n",
        "\n",
        "print( \"SUB: min, max, mean, #samples:\", np.min( subs ), np.max( subs ), np.mean( subs ), quattro*np.mean( subs ) )\n",
        "print( \"ADD: min, max, mean, #samples:\", np.min( adds ), np.max( adds ), np.mean( adds ), cinque*np.mean( adds ) )\n",
        "print( \"MUL: min, max, mean, #samples:\", np.min( mults ), np.max( mults ), np.mean( mults ), sei*np.mean( mults ) )\n",
        "print( \"SQR: min, max, mean, #samples:\", np.min( sqrs ), np.max( sqrs ), np.mean( sqrs ), sette*np.mean( sqrs ) )\n",
        "print( \"TEST BIT: min, max, mean, #samples:\", np.min( testbits ), np.max( testbits ), np.mean( testbits ), uno*np.mean( testbits ) )\n",
        "print( \"XYZADDC: min, max, mean, #samples:\", np.min( xyzaddcs ), np.max( xyzaddcs ), np.mean( xyzaddcs ), due*np.mean( xyzaddcs ) )\n",
        "print( \"XYZADD: min, max, mean, #samples:\", np.min( xyzadds ), np.max( xyzadds ), np.mean( xyzadds ), tre*np.mean( xyzadds ) )\n",
        "print( \"XYZENDS: min, max, mean, #samples:\", np.min( xyzends ), np.max( xyzends ), np.mean( xyzends ), centotrentuno*np.mean( xyzends ) )\n",
        "print( \"VLISET: min, max, mean, #samples:\", np.min( vlisets ), np.max( vlisets ), np.mean( vlisets ), centotrentadue*np.mean( vlisets ) )\n",
        "\n",
        "#mults = []\n",
        "#adds = []\n",
        "#subs = []\n",
        "samples = 10000"
      ],
      "execution_count": null,
      "outputs": [
        {
          "output_type": "stream",
          "name": "stdout",
          "text": [
            "SUB: min, max, mean, #samples: 153 255 203.51203416149067 524247.0\n",
            "ADD: min, max, mean, #samples: 218 255 236.0496894409938 76008.0\n",
            "MUL: min, max, mean, #samples: 2659 2813 2729.1739130434785 3954573.0000000005\n",
            "SQR: min, max, mean, #samples: 2666 2828 2739.726708074534 2205480.0\n",
            "TEST BIT: min, max, mean, #samples: 53 53 53.0 8480.0\n",
            "XYZADDC: min, max, mean, #samples: 82 82 82.0 13120.0\n",
            "XYZADD: min, max, mean, #samples: 65 65 65.0 10400.0\n",
            "XYZENDS: min, max, mean, #samples: 37 167 37.8125 6050.0\n",
            "VLISET: min, max, mean, #samples: 175 172428 712.8598130841121 229540.8598130841\n"
          ]
        }
      ]
    },
    {
      "cell_type": "code",
      "source": [
        "print( subs )\n",
        "print( np.sum( subs ) )"
      ],
      "metadata": {
        "colab": {
          "base_uri": "https://localhost:8080/"
        },
        "id": "xX-L1X6hx4zs",
        "outputId": "3a8286db-c5c0-41f2-bccb-214c6851bede"
      },
      "execution_count": null,
      "outputs": [
        {
          "output_type": "stream",
          "name": "stdout",
          "text": [
            "[159, 243, 160, 248, 248, 249, 154, 157, 255, 248, 248, 246, 160, 252, 247, 245, 159, 244, 250, 158, 157, 160, 243, 247, 165, 159, 249, 155, 160, 253, 246, 156, 249, 153, 160, 248, 158, 159, 154, 247, 165, 248, 248, 246, 160, 252, 157, 245, 159, 244, 160, 248, 247, 250, 243, 247, 255, 249, 159, 155, 160, 253, 156, 246, 249, 153, 250, 158, 158, 249, 154, 247, 165, 248, 248, 246, 160, 252, 247, 245, 249, 154, 160, 248, 247, 160, 243, 157, 165, 159, 249, 155, 160, 163, 246, 156, 159, 153, 250, 248, 158, 249, 244, 157, 255, 158, 248, 246, 250, 162, 157, 245, 159, 154, 160, 158, 247, 250, 153, 247, 255, 249, 249, 155, 160, 163, 156, 156, 159, 153, 160, 248, 248, 159, 244, 157, 165, 248, 158, 156, 160, 252, 157, 245, 159, 154, 250, 158, 157, 250, 243, 247, 255, 159, 159, 155, 250, 253, 246, 246, 249, 243, 250, 248, 158, 249, 154, 247, 255, 248, 248, 246, 250, 252, 247, 245, 249, 244, 160, 248, 247, 250, 153, 157, 165, 249, 249, 155, 160, 253, 156, 246, 249, 153, 250, 248, 158, 249, 244, 157, 255, 158, 158, 156, 250, 252, 157, 155, 249, 154, 160, 248, 247, 160, 243, 157, 165, 159, 249, 155, 250, 253, 246, 246, 159, 243, 250, 158, 158, 159, 244, 247, 165, 158, 248, 156, 250, 162, 247, 245, 249, 154, 250, 248, 157, 250, 243, 157, 165, 159, 249, 245, 250, 163, 246, 156, 249, 243, 250, 158, 248, 159, 154, 247, 255, 248, 158, 156, 250, 162, 247, 155, 249, 154, 250, 248, 157, 160, 243, 157, 165, 159, 159, 155, 250, 163, 246, 246, 159, 153, 250, 248, 158, 159, 244, 247, 165, 158, 158, 246, 250, 162, 157, 155, 159, 244, 160, 158, 247, 160, 153, 157, 165, 159, 159, 245, 250, 253, 246, 246, 159, 243, 250, 248, 158, 249, 244, 247, 255, 158, 158, 156, 250, 162, 247, 155, 249, 244, 250, 158, 157, 160, 243, 157, 255, 159, 159, 155, 250, 163, 246, 246, 249, 153, 160, 248, 248, 249, 244, 157, 165, 248, 248, 156, 250, 162, 247, 245, 159, 154, 250, 158, 157, 250, 243, 247, 165, 159, 249, 155, 250, 163, 246, 246, 249, 243, 250, 158, 158, 159, 154, 247, 165, 158, 158, 246, 160, 252, 157, 245, 249, 244, 160, 158, 247, 250, 153, 157, 255, 159, 249, 245, 250, 253, 156, 156, 159, 243, 250, 248, 248, 249, 244, 247, 165, 248, 248, 246, 160, 252, 157, 155, 159, 244, 250, 158, 157, 250, 153, 247, 255, 159, 159, 245, 250, 163, 246, 246, 249, 243, 250, 158, 158, 159, 154, 247, 255, 248, 158, 246, 160, 252, 247, 245, 249, 154, 160, 248, 247, 250, 243, 157, 165, 159, 249, 155, 250, 163, 246, 156, 249, 153, 160, 248, 248, 159, 244, 157, 165, 158, 158, 156, 160, 252, 157, 245, 249, 154, 160, 158, 157, 250, 243, 157, 165, 159, 249, 155, 160, 253, 156, 156, 159, 153, 250, 158, 248, 249, 154, 247, 255, 248, 248, 156, 250, 252, 247, 155, 159, 244, 160, 158, 157, 160, 243, 157, 255, 159, 159, 155, 160, 253, 246, 246, 159, 153, 250, 248, 158, 159, 244, 247, 165, 248, 158, 156, 250, 162, 157, 155, 159, 154, 160, 158, 247, 250, 153, 157, 255, 249, 249, 155, 250, 163, 246, 156, 159, 153, 160, 248, 248, 159, 244, 157, 165, 158, 248, 156, 160, 252, 157, 245, 249, 244, 250, 158, 157, 250, 243, 247, 165, 159, 249, 245, 160, 253, 156, 246, 159, 153, 250, 158, 158, 249, 244, 247, 255, 158, 158, 156, 250, 162, 247, 155, 159, 154, 250, 248, 157, 160, 243, 247, 255, 249, 159, 245, 160, 253, 246, 246, 159, 243, 250, 248, 158, 249, 154, 247, 255, 248, 158, 156, 250, 162, 247, 155, 159, 154, 160, 248, 247, 250, 243, 157, 255, 159, 249, 155, 250, 163, 246, 156, 159, 243, 160, 248, 248, 249, 154, 247, 255, 248, 248, 156, 250, 252, 247, 245, 159, 154, 250, 158, 157, 250, 153, 247, 165, 159, 249, 155, 160, 163, 246, 156, 249, 153, 250, 158, 158, 249, 154, 157, 165, 158, 248, 246, 160, 252, 157, 155, 249, 154, 160, 248, 157, 250, 243, 157, 165, 159, 249, 245, 160, 253, 246, 246, 159, 153, 160, 158, 248, 249, 154, 157, 255, 248, 248, 156, 250, 162, 247, 155, 159, 154, 250, 158, 157, 250, 153, 247, 165, 159, 249, 155, 160, 163, 246, 156, 159, 153, 160, 248, 248, 159, 244, 157, 255, 248, 158, 156, 250, 162, 157, 245, 159, 244, 250, 248, 157, 250, 243, 247, 255, 249, 249, 155, 250, 163, 246, 246, 249, 153, 250, 248, 158, 249, 154, 247, 165, 248, 248, 246, 160, 162, 157, 245, 159, 244, 160, 158, 247, 160, 153, 247, 165, 249, 249, 245, 160, 253, 156, 246, 249, 243, 250, 248, 158, 159, 244, 157, 165, 158, 248, 246, 250, 252, 157, 155, 249, 244, 160, 248, 247, 160, 243, 157, 165, 249, 249, 155, 250, 253, 246, 246, 159, 153, 250, 248, 248, 159, 244, 247, 165, 248, 158, 156, 250, 162, 247, 155, 159, 154, 250, 248, 247, 160, 243, 247, 165, 249, 159, 155, 250, 163, 156, 246, 249, 153, 160, 248, 248, 159, 244, 247, 255, 248, 158, 156, 160, 162, 247, 155, 249, 244, 250, 248, 247, 160, 153, 157, 165, 249, 159, 245, 250, 163, 156, 156, 249, 243, 160, 158, 158, 249, 154, 247, 255, 158, 158, 246, 160, 252, 157, 245, 249, 154, 250, 248, 247, 250, 153, 247, 165, 249, 249, 245, 250, 253, 156, 246, 159, 153, 160, 248, 248, 159, 154, 157, 255, 248, 158, 246, 250, 252, 247, 155, 159, 244, 160, 248, 247, 250, 153, 157, 255, 249, 249, 245, 250, 253, 156, 156, 159, 153, 160, 248, 248, 249, 154, 157, 255, 248, 248, 156, 250, 252, 247, 155, 249, 244, 250, 158, 247, 250, 243, 157, 255, 159, 159, 245, 250, 253, 156, 156, 159, 153, 160, 158, 158, 159, 244, 157, 165, 158, 248, 246, 160, 162, 157, 245, 159, 154, 160, 248, 247, 160, 243, 157, 165, 249, 159, 245, 160, 253, 246, 156, 159, 153, 160, 248, 248, 249, 244, 157, 165, 158, 248, 246, 160, 162, 157, 245, 249, 154, 250, 248, 157, 160, 243, 247, 165, 159, 249, 245, 160, 163, 156, 156, 249, 153, 160, 248, 248, 249, 244, 157, 255, 248, 158, 156, 250, 162, 247, 155, 249, 244, 250, 158, 157, 160, 243, 157, 165, 159, 159, 245, 160, 253, 156, 156, 159, 153, 160, 158, 248, 159, 154, 157, 165, 248, 158, 246, 160, 252, 247, 155, 249, 154, 250, 248, 247, 160, 153, 157, 255, 249, 159, 245, 160, 163, 156, 246, 159, 153, 250, 248, 248, 159, 244, 157, 165, 158, 158, 246, 160, 252, 157, 155, 249, 244, 160, 248, 247, 250, 243, 157, 165, 249, 249, 245, 160, 253, 156, 246, 249, 243, 160, 158, 248, 249, 244, 157, 255, 158, 158, 246, 160, 162, 157, 155, 249, 244, 250, 158, 247, 160, 153, 157, 165, 249, 249, 245, 160, 253, 156, 156, 249, 243, 160, 248, 158, 159, 244, 247, 255, 158, 158, 156, 250, 162, 247, 155, 159, 244, 160, 158, 157, 160, 153, 157, 165, 159, 249, 245, 250, 253, 156, 246, 249, 243, 250, 248, 158, 159, 244, 247, 255, 248, 158, 156, 160, 252, 157, 245, 249, 244, 250, 158, 157, 250, 153, 247, 165, 249, 249, 155, 250, 253, 156, 246, 159, 243, 160, 158, 158, 159, 244, 247, 165, 158, 248, 246, 160, 252, 157, 155, 159, 154, 160, 158, 247, 250, 243, 157, 165, 159, 249, 245, 160, 253, 156, 246, 159, 153, 160, 248, 248, 159, 154, 157, 165, 248, 248, 246, 160, 252, 157, 155, 249, 244, 250, 248, 157, 250, 243, 157, 255, 159, 249, 245, 160, 253, 156, 246, 159, 153, 250, 248, 248, 159, 244, 157, 165, 248, 248, 156, 250, 162, 247, 245, 159, 154, 250, 158, 157, 250, 243, 157, 255, 159, 249, 155, 250, 253, 156, 246, 159, 153, 160, 158, 158, 159, 244, 157, 255, 158, 158, 246, 160, 162, 247, 155, 159, 154, 160, 248, 247, 250, 243, 157, 255, 159, 159, 155, 250, 163, 246, 156, 249, 153, 160, 158, 158, 249, 154, 157, 255, 158, 248, 156, 250, 162, 247, 155, 249, 154, 250, 158, 157, 250, 153, 247, 165, 159, 249, 245, 250, 163, 246, 156, 159, 153, 160, 158, 158, 159, 154, 247, 255, 158, 158, 156, 250, 162, 247, 155, 249, 244, 160, 248, 157, 160, 243, 157, 165, 159, 159, 155, 160, 163, 246, 246, 249, 153, 160, 158, 248, 249, 154, 247, 165, 248, 248, 246, 250, 162, 157, 155, 159, 244, 250, 158, 157, 160, 243, 157, 165, 159, 249, 245, 160, 253, 156, 156, 249, 153, 250, 248, 248, 159, 154, 247, 165, 248, 158, 156, 160, 162, 157, 245, 249, 154, 250, 158, 157, 250, 153, 247, 165, 159, 249, 245, 160, 163, 156, 156, 249, 243, 160, 158, 158, 249, 154, 247, 255, 248, 158, 246, 160, 252, 157, 245, 159, 154, 160, 158, 157, 250, 153, 247, 255, 249, 249, 245, 160, 253, 246, 156, 249, 153, 250, 248, 158, 159, 244, 157, 255, 158, 158, 156, 250, 162, 157, 155, 159, 244, 250, 158, 157, 250, 153, 247, 255, 249, 159, 245, 160, 253, 156, 246, 249, 153, 250, 158, 158, 249, 244, 157, 165, 158, 248, 246, 250, 252, 157, 245, 159, 244, 160, 158, 247, 160, 153, 157, 255, 249, 159, 245, 160, 163, 156, 156, 159, 243, 160, 158, 248, 249, 154, 247, 165, 248, 248, 246, 250, 162, 157, 155, 159, 244, 160, 248, 247, 250, 243, 247, 255, 249, 159, 155, 160, 253, 246, 156, 159, 153, 250, 248, 158, 159, 244, 247, 165, 248, 248, 156, 250, 162, 247, 245, 159, 154, 160, 248, 247, 250, 243, 157, 255, 159, 249, 245, 250, 253, 246, 156, 249, 153, 250, 158, 158, 159, 244, 157, 165, 158, 158, 156, 250, 252, 157, 245, 249, 244, 160, 158, 247, 160, 153, 157, 165, 159, 249, 155, 250, 163, 156, 156, 249, 243, 160, 248, 248, 249, 244, 157, 255, 158, 158, 156, 250, 162, 247, 245, 159, 244, 250, 248, 247, 250, 243, 157, 255, 159, 159, 155, 250, 163, 156, 246, 159, 243, 250, 248, 158, 159, 244, 247, 165, 248, 248, 156, 250, 162, 247, 245, 249, 244, 160, 248, 247, 160, 243, 157, 165, 249, 249, 155, 250, 163, 156, 246, 249, 153, 250, 248, 158, 159, 244, 157, 165, 158, 158, 156, 250, 162, 247, 155, 159, 154, 160, 158, 157, 160, 153, 157, 255, 159, 159, 155, 250, 163, 246, 156, 159, 153, 250, 158, 248, 159, 154, 247, 255, 248, 158, 246, 160, 252, 157, 155, 249, 244, 250, 248, 247, 160, 153, 247, 165, 249, 159, 155, 160, 253, 156, 156, 159, 243, 250, 158, 158, 249, 244, 247, 255, 158, 158, 156, 160, 252, 247, 245, 249, 154, 160, 158, 247, 250, 243, 157, 255, 159, 249, 155, 160, 163, 246, 156, 249, 243, 160, 248, 248, 249, 244, 157, 255, 158, 158, 156, 250, 162, 157, 245, 249, 244, 250, 158, 157, 160, 153, 247, 165, 159, 159, 245, 160, 253, 156, 246, 249, 243, 250, 248, 158, 249, 244, 247, 165, 158, 248, 156, 160, 252, 157, 245, 159, 244, 160, 158, 157, 250, 153, 157, 255, 159, 159, 245, 160, 253, 156, 156, 159, 243, 160, 158, 248, 159, 154, 247, 165, 248, 158, 246, 160, 252, 157, 245, 249, 154, 160, 248, 247, 160, 243, 157, 165, 249, 249, 245, 160, 253, 156, 246, 159, 153, 160, 248, 248, 159, 154, 247, 255, 248, 158, 246, 160, 252, 157, 155, 249, 244, 160, 158, 157, 250, 243, 157, 255, 159, 159, 245, 160, 163, 156, 156, 159, 243, 250, 248, 248, 249, 244, 157, 255, 248, 248, 246, 160, 252, 247, 245, 159, 154, 250, 248, 247, 250, 153, 247, 165, 249, 249, 245, 160, 253, 156, 156, 249, 153, 160, 158, 158, 249, 244, 247, 165, 158, 248, 246, 250, 162, 247, 245, 249, 154, 160, 158, 247, 250, 153, 157, 165, 249, 249, 245, 160, 253, 156, 156, 159, 153, 250, 248, 248, 249, 244, 157, 255, 248, 158, 156, 250, 162, 157, 245, 249, 154, 160, 248, 247, 250, 243, 247, 165, 249, 249, 155, 250, 163, 246, 156, 249, 153, 160, 158, 158, 249, 154, 247, 165, 248, 248, 156, 160, 162, 157, 155, 159, 244, 250, 248, 157, 160, 243, 247, 165, 249, 159, 245, 160, 253, 246, 246, 249, 153, 250, 158, 158, 249, 154, 247, 165, 158, 248, 246, 160, 252, 157, 245, 249, 244, 160, 248, 247, 160, 153, 247, 165, 249, 249, 155, 250, 253, 246, 246, 159, 243, 250, 158, 158, 159, 154, 247, 165, 248, 158, 246, 160, 252, 157, 245, 249, 154, 250, 248, 247, 250, 153, 247, 255, 249, 249, 155, 250, 163, 246, 246, 249, 153, 250, 248, 158, 249, 244, 247, 255, 248, 248, 246, 250, 162, 247, 155, 249, 244, 160, 158, 247, 250, 153, 157, 165, 249, 249, 155, 160, 253, 246, 156, 249, 153, 250, 158, 158, 159, 154, 247, 255, 248, 158, 156, 160, 162, 247, 155, 159, 154, 160, 158, 247, 250, 153, 247, 255, 249, 159, 245, 160, 253, 156, 246, 249, 243, 250, 248, 248, 249, 244, 157, 165, 248, 248, 246, 160, 252, 157, 245, 249, 244, 250, 158, 157, 250, 153, 247, 165, 249, 249, 155, 250, 163, 246, 246, 159, 153, 250, 158, 158, 159, 154, 157, 255, 158, 158, 246, 250, 252, 247, 245, 159, 244, 250, 248, 247, 250, 153, 247, 165, 249, 249, 155, 160, 253, 156, 156, 159, 153, 160, 248, 248, 249, 154, 157, 165, 248, 248, 246, 160, 252, 157, 155, 159, 154, 250, 248, 157, 250, 243, 247, 165, 249, 249, 155, 160, 163, 156, 156, 249, 153, 160, 158, 248, 249, 154, 247, 255, 248, 158, 156, 160, 162, 247, 155, 249, 154, 250, 248, 247, 160, 243, 247, 255, 249, 159, 155, 250, 253, 246, 246, 159, 153, 160, 248, 248, 249, 154, 247, 255, 248, 248, 246, 160, 252, 157, 245, 249, 154, 160, 248, 247, 250, 153, 247, 255, 249, 249, 155, 250, 253, 156, 156, 159, 153, 250, 158, 158, 159, 154, 157, 165, 158, 158, 156, 250, 162, 157, 155, 159, 154, 250, 158, 157, 250, 153, 247, 255, 159, 159, 155, 250, 253, 246, 156, 249, 153, 160, 248, 248, 249, 154, 247, 255, 248, 248, 156, 250, 162, 247, 155, 159, 244, 160, 248, 247, 160, 243, 157, 255, 249, 159, 245, 160, 253, 156, 246, 159, 243, 250, 248, 248, 159, 154, 247, 165, 248, 248, 246, 160, 252, 157, 245, 159, 244, 250, 158, 247, 250, 153, 157, 165, 249, 249, 155, 160, 163, 156, 156, 249, 243, 250, 158, 158, 159, 154, 247, 165, 158, 158, 246, 160, 162, 247, 155, 249, 244, 250, 248, 247, 250, 243, 157, 165, 249, 249, 155, 250, 163, 246, 156, 249, 154, 160, 248, 247, 160, 153, 157, 165, 250, 250, 247, 159, 253, 158, 157]\n",
            "524247\n"
          ]
        }
      ]
    },
    {
      "cell_type": "code",
      "metadata": {
        "colab": {
          "base_uri": "https://localhost:8080/",
          "height": 709,
          "referenced_widgets": [
            "b31e3cd1b37242e689ae7a89d0a191ac",
            "a3536d4a85184225b871edb277cc4126",
            "b637ed698c81405b91cacd3aafe68b1f",
            "0033dca345514698a45160b548ece33d"
          ]
        },
        "id": "88Vk2_rIdpD8",
        "outputId": "b2d2421a-f7d9-403c-bc89-b3bb38c6fa33"
      },
      "source": [
        "%matplotlib widget\n",
        "output.enable_custom_widget_manager()\n",
        "start = 0\n",
        "end = 1000000\n",
        "plt.ion()\n",
        "plt.rcParams['figure.figsize'] = [ 20, 6 ]\n",
        "#plt.rcParams[\"figure.dpi\"] = 150\n",
        "x = np.arange( start, end )\n",
        "y = np.array( operation_time[ start:end ] )\n",
        "\n",
        "sub = 4\n",
        "add = 5\n",
        "mul = 6\n",
        "sqr = 7\n",
        "subs = np.ma.masked_not_equal( y, sub )\n",
        "adds = np.ma.masked_not_equal( y, add )\n",
        "muls = np.ma.masked_not_equal( y, mul )\n",
        "sqrs = np.ma.masked_not_equal( y, sqr )\n",
        "others = np.ma.masked_inside( y, sub, sqr )\n",
        "\n",
        "fig, ax = plt.subplots()\n",
        "ax.plot( x, others, 'yellow', x, subs, 'green', x, adds, 'red', x, muls, 'cyan', x, sqrs, 'magenta', antialiased=False )\n",
        "plt.plot( x, np.array( traces[ 0 ][ start+26:end+26 ] ), color='blue', antialiased=False )\n",
        "plt.show()\n",
        "output.disable_custom_widget_manager()"
      ],
      "execution_count": null,
      "outputs": [
        {
          "output_type": "display_data",
          "data": {
            "text/plain": [
              "Canvas(toolbar=Toolbar(toolitems=[('Home', 'Reset original view', 'home', 'home'), ('Back', 'Back to previous …"
            ],
            "image/png": "[encoded data removed]",
            "text/html": [
              "\n",
              "            <div style=\"display: inline-block;\">\n",
              "                <div class=\"jupyter-widgets widget-label\" style=\"text-align: center;\">\n",
              "                    Figure\n",
              "                </div>\n",
              "                <img src='data:image/png;base64,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' width=2000.0/>\n",
              "            </div>\n",
              "        "
            ],
            "application/vnd.jupyter.widget-view+json": {
              "version_major": 2,
              "version_minor": 0,
              "model_id": "b31e3cd1b37242e689ae7a89d0a191ac"
            }
          },
          "metadata": {
            "application/vnd.jupyter.widget-view+json": {
              "colab": {
                "custom_widget_manager": {
                  "url": "https://ssl.gstatic.com/colaboratory-static/widgets/colab-cdn-widget-manager/b3e629b1971e1542/manager.min.js"
                }
              }
            }
          }
        }
      ]
    }
  ]
}
